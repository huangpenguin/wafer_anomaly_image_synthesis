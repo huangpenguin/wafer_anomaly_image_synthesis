{
 "cells": [
  {
   "cell_type": "code",
   "execution_count": null,
   "metadata": {},
   "outputs": [],
   "source": [
    "import pandas as pd\n",
    "from itertools import product\n",
    "\n",
    "# 1. 读取Excel文件\n",
    "excel_path = r'C:\\Users\\huang\\work\\dataset\\calibration\\data\\123.xlsx'\n",
    "excel_data = pd.read_excel(excel_path, header=0)\n",
    "\n",
    "# 2. 提取File字段并替换连字符为下划线\n",
    "columns = excel_data.columns\n",
    "file_list = [col.split('_', 3)[-1].replace('-', '_') for col in columns]\n",
    "\n",
    "# 3. 生成Area字段（行名）\n",
    "area_list = [f\"A1_{i:04d}\" for i in range(excel_data.shape[0])]\n",
    "\n",
    "# 4. 生成笛卡尔积并展开数据\n",
    "file_area_combinations = list(product(file_list, area_list))  # 笛卡尔积生成所有组合\n",
    "\n",
    "# 将数据展开为列表\n",
    "values = excel_data.values.flatten(order='F')  # 按列展开数据（与列名对应）\n",
    "file_column = [file for file, _ in file_area_combinations]\n",
    "area_column = [area for _, area in file_area_combinations]\n",
    "\n",
    "# 5. 创建列表形式的DataFrame\n",
    "list_format_data = pd.DataFrame({\n",
    "    \"File\": file_column,\n",
    "    \"Area\": area_column,\n",
    "    \"Dis_cut\": values\n",
    "})\n",
    "\n",
    "# 6. 保存为CSV文件\n",
    "output_path = r'C:\\Users\\huang\\work\\dataset\\calibration\\data\\123_list_format.csv'\n",
    "list_format_data.to_csv(output_path, index=False)\n",
    "\n",
    "print(f\"转换完成，结果已保存到 {output_path}\")\n"
   ]
  },
  {
   "cell_type": "code",
   "execution_count": null,
   "metadata": {},
   "outputs": [],
   "source": [
    "import pandas as pd\n",
    "\n",
    "# 1. 加载两个文件的数据\n",
    "list_format_path = r'C:\\Users\\huang\\work\\dataset\\calibration\\data\\123_list_format.csv'\n",
    "reference_data_path = r'C:\\Users\\huang\\work\\dataset\\calibration\\data\\merged_reference_data.csv'\n",
    "\n",
    "list_format_data = pd.read_csv(list_format_path)\n",
    "reference_data = pd.read_csv(reference_data_path)\n",
    "\n",
    "# 2. 合并两个文件\n",
    "# 按 \"File\" 和 \"Area\" 两个字段匹配，将 list_format_data 的 Dis_cut 合并到 reference_data\n",
    "merged_data = pd.merge(reference_data, list_format_data[['File', 'Area', 'Dis_cut']], \n",
    "                       on=['File', 'Area'], how='left', suffixes=('', '_new'))\n",
    "\n",
    "# 3. 更新原有的 Dis_cut 列\n",
    "merged_data['Dis_cut'] = merged_data['Dis_cut_new'].combine_first(merged_data['Dis_cut'])\n",
    "merged_data.drop(columns=['Dis_cut_new'], inplace=True)  # 删除辅助列\n",
    "\n",
    "# 4. 保存合并后的结果到新的 CSV 文件\n",
    "output_path = r'C:\\Users\\huang\\work\\dataset\\calibration\\data\\merged_reference_data_updated.csv'\n",
    "merged_data.to_csv(output_path, index=False)\n",
    "\n",
    "print(f\"合并完成，结果已保存到 {output_path}\")"
   ]
  }
 ],
 "metadata": {
  "kernelspec": {
   "display_name": ".venv",
   "language": "python",
   "name": "python3"
  },
  "language_info": {
   "codemirror_mode": {
    "name": "ipython",
    "version": 3
   },
   "file_extension": ".py",
   "mimetype": "text/x-python",
   "name": "python",
   "nbconvert_exporter": "python",
   "pygments_lexer": "ipython3",
   "version": "3.12.2"
  }
 },
 "nbformat": 4,
 "nbformat_minor": 2
}
