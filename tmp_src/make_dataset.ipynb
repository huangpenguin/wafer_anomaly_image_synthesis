{
 "cells": [
  {
   "cell_type": "code",
   "execution_count": null,
   "metadata": {},
   "outputs": [],
   "source": [
    "from pathlib import Path\n",
    "import pandas as pd\n",
    "import shutil\n",
    "import src.pic_preprocess as pp\n",
    "import src.csv_analyser as analy"
   ]
  },
  {
   "cell_type": "code",
   "execution_count": null,
   "metadata": {},
   "outputs": [],
   "source": [
    "input_file_names=[\"アノテーションDB_20250117-141645__ベアSi_0-正常_一覧\",                  \n",
    "\"アノテーションDB_20250117-141645__ベアSi_1-汚れ_一覧\",                 \n",
    "\"アノテーションDB_20250117-141645__ベアSi_2-擦り跡_一覧\",                 \n",
    "\"アノテーションDB_20250117-141645__ベアSi_3-発塵痕_一覧\",                 \n",
    "\"アノテーションDB_20250117-141645__ベアSi_4-打痕、傷_一覧\",                 \n",
    "\"アノテーションDB_20250117-141645__ベアSi_5-異物_一覧\",                 \n",
    "\"アノテーションDB_20250117-141645__ベアSi_6-ウォーターマーク_一覧\",                 \n",
    "\"アノテーションDB_20250117-141645__ベアSi_7-残渣_一覧\",                 \n",
    "\"アノテーションDB_20250117-141645__ベアSi_8-ヒゲ_一覧\",                 \n",
    "\"アノテーションDB_20250117-141645__ベアSi_9-膜境界不良_一覧\",                 \n",
    "\"アノテーションDB_20250117-141645__ベアSi_10-コメット_一覧\",                 \n",
    "\"アノテーションDB_20250117-141645__ベアSi_11-タイガーストライプ_一覧\",]\n",
    "\n",
    "fieldnames = [\n",
    "        \"image_id\", \"original_id\", \"measurement_id\", \"foup_slot\", \"bevel_section\",\n",
    "        \"flame_no\", \"split\", \"making_defect_type\", \"selection_no\", \"defect_class\"\n",
    "    ]\n",
    "df_split_info = pd.DataFrame(columns=fieldnames)\n",
    "\n",
    "for i in range(len(input_file_names)):\n",
    "    input_file_name=input_file_names[i]\n",
    "    excel_path = Path(r\"C:\\Users\\huang\\work\\dataset\\make_dataset\\no_pattern\") / f\"{input_file_name}.csv\"\n",
    "\n",
    "    output_file_folder_1st=input_file_name.split(\"_\")[3]\n",
    "    output_file_folder_2nd=input_file_name.split(\"_\")[4]\n",
    " \n",
    "    src_dir = r\"D:\\H23057-J_とめ研社内共有\\画像データ\\オリジナル\\20241004_画像データ\\提出画像_20241003\"\n",
    "    dest_dir = Path(r\"D:\\H23057-J_とめ研社内共有\\画像データ\\アノテーション済\\20250207_bareSi\")\n",
    "    dest_dir = dest_dir / output_file_folder_1st / output_file_folder_2nd\n",
    "\n",
    "    category_names=[\"01_normal\",\"02_blot\",\"03_scratch\",\"04_dust\",\"05_dent\",\"06_foreign_substance\",\"07_watermark\",\"08_residue\",\"09_barb\",\"10_defective_boundary\",\"11_comet\",\"12_tiger_stripe\"]\n",
    "    defect_class=category_names[i]\n",
    "\n",
    "    df=pd.read_csv(excel_path,encoding='shift_jis', dtype=str,on_bad_lines='warn')   \n",
    "    df['画像コード'] = df['画像コード'].str.replace('-', '_')\n",
    "    \n",
    "    if df.empty or df.shape[0] <= 1:\n",
    "        print(f\"Failed to load or no data except index row in {excel_path}\")\n",
    "        continue\n",
    "       \n",
    "    for image in df['画像コード']:\n",
    "        is_vertical = \"C\" in image\n",
    "        #image_id,original_id,measurement_id,bevel_section,flame_no,split=analy.process_image_name(image,is_vertical)  \n",
    "        image_info = analy.process_image_name(image,is_vertical)           \n",
    "        analy.find_and_copy_images(src_dir, dest_dir, image_info.original_id)  \n",
    "              \n",
    "    pp.split_images_in_folder(dest_dir, dest_dir)    \n",
    "    for image in df['画像コード']: \n",
    "        tif_file=dest_dir/ \"splitted\"/ (image+ '.tif')\n",
    "        if not (dest_dir.parent/\"input_data\").exists():\n",
    "            (dest_dir.parent/\"input_data\") .mkdir(parents=True) \n",
    "        destination_file = dest_dir.parent/\"input_data\" / ( image+ '.tif')\n",
    "        if (tif_file.exists()) and not (destination_file.exists()):          \n",
    "            shutil.copy(tif_file, destination_file) \n",
    "            df_split_info=analy.generate_dataframe_from_image(image, defect_class, dataframe=df_split_info)         \n",
    "            print(f\"Copied: {image}.tif\")\n",
    "        else:\n",
    "            print(f\"File not found: {image}.tif\")    \n",
    "\n",
    "df_split_info.to_csv(dest_dir.parent/\"input_data\" /\"split_image_info.csv\", index=False, encoding='shift_jis', mode='w') \n"
   ]
  }
 ],
 "metadata": {
  "kernelspec": {
   "display_name": ".venv",
   "language": "python",
   "name": "python3"
  },
  "language_info": {
   "codemirror_mode": {
    "name": "ipython",
    "version": 3
   },
   "file_extension": ".py",
   "mimetype": "text/x-python",
   "name": "python",
   "nbconvert_exporter": "python",
   "pygments_lexer": "ipython3",
   "version": "3.12.2"
  }
 },
 "nbformat": 4,
 "nbformat_minor": 2
}
