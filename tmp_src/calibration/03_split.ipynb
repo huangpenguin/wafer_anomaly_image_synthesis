{
 "cells": [
  {
   "cell_type": "code",
   "execution_count": 15,
   "metadata": {},
   "outputs": [
    {
     "name": "stdout",
     "output_type": "stream",
     "text": [
      "Saved: ..\\calibration\\data\\20241121_reference\\1_06_05_C1_0213\\result\\aligned_diff_image_I.png and ..\\calibration\\data\\20241121_reference\\1_06_05_C1_0213\\result\\aligned_diff_image_O.png\n",
      "Saved: ..\\calibration\\data\\20241121_reference\\1_06_05_C1_0213\\result\\Anomaly Image_I.png and ..\\calibration\\data\\20241121_reference\\1_06_05_C1_0213\\result\\Anomaly Image_O.png\n",
      "Saved: ..\\calibration\\data\\20241121_reference\\1_06_05_C1_0213\\result\\masked_diff_image_I.png and ..\\calibration\\data\\20241121_reference\\1_06_05_C1_0213\\result\\masked_diff_image_O.png\n",
      "Saved: ..\\calibration\\data\\20241121_reference\\1_06_05_C1_0213\\result\\mask_image_I.png and ..\\calibration\\data\\20241121_reference\\1_06_05_C1_0213\\result\\mask_image_O.png\n",
      "Saved: ..\\calibration\\data\\20241121_reference\\1_06_05_C1_0213\\result\\Reference Image_I.png and ..\\calibration\\data\\20241121_reference\\1_06_05_C1_0213\\result\\Reference Image_O.png\n"
     ]
    }
   ],
   "source": [
    "from pathlib import Path\n",
    "from PIL import Image\n",
    "\n",
    "def split_images_in_folder(folder_path: Path):\n",
    "    \"\"\"\n",
    "    Split all images in the folder into two halves and append 'I' and 'O' to the original file names.\n",
    "\n",
    "    :param folder_path: Path to the folder containing images.\n",
    "    \"\"\"\n",
    "    if not folder_path.is_dir():\n",
    "        print(f\"{folder_path} is not a valid folder path.\")\n",
    "        return\n",
    "\n",
    "    for image_file in folder_path.glob('*'):\n",
    "        if 'C' in image_file.stem.upper(): \n",
    "            print(f\"Skipping {image_file} as it contains 'C'.\")\n",
    "            continue\n",
    "        if image_file.suffix.lower() in ['.png', '.jpg', '.jpeg', '.bmp', '.gif']:\n",
    "            with Image.open(image_file) as img:\n",
    "                width, height = img.size\n",
    "                \n",
    "                left_image = img.crop((0, 0, width // 2, height))\n",
    "                right_image = img.crop((width // 2, 0, width, height))\n",
    "\n",
    "                left_image_file = image_file.with_stem(image_file.stem + '_I')\n",
    "                right_image_file = image_file.with_stem(image_file.stem + '_O')\n",
    "\n",
    "                left_image.save(left_image_file)\n",
    "                right_image.save(right_image_file)\n",
    "\n",
    "                print(f\"Saved: {left_image_file} and {right_image_file}\")\n",
    "\n",
    "# Example usage\n",
    "folder = Path(\"../calibration/data/20241121_reference/1_06_05_E1_0130/result\")\n",
    "\n",
    "\n",
    "split_images_in_folder(folder)\n"
   ]
  }
 ],
 "metadata": {
  "kernelspec": {
   "display_name": ".venv",
   "language": "python",
   "name": "python3"
  },
  "language_info": {
   "codemirror_mode": {
    "name": "ipython",
    "version": 3
   },
   "file_extension": ".py",
   "mimetype": "text/x-python",
   "name": "python",
   "nbconvert_exporter": "python",
   "pygments_lexer": "ipython3",
   "version": "3.12.2"
  }
 },
 "nbformat": 4,
 "nbformat_minor": 2
}
