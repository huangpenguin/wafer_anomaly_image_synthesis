{
 "cells": [
  {
   "cell_type": "code",
   "execution_count": 1,
   "metadata": {},
   "outputs": [],
   "source": [
    "###\n",
    "# prepare data\n",
    "###\n",
    "\n",
    "# import src.pic_preprocess as pic_prepro\n",
    "# from pathlib import Path\n",
    "# path_a=Path(r\"C:\\Users\\huang\\work\\bevel-ml\\trunk\\data\\input\\20241212_test\")\n",
    "# pic_prepro.split_images_in_folder(path_a,path_a)\n",
    "#TODO make split_image_info.csv~~~~~~~~~~~~~~~~~~~~~~~~\n",
    "\n",
    "###\n",
    "# train selected files\n",
    "###"
   ]
  },
  {
   "cell_type": "code",
   "execution_count": 2,
   "metadata": {},
   "outputs": [
    {
     "name": "stderr",
     "output_type": "stream",
     "text": [
      "\n",
      "A module that was compiled using NumPy 1.x cannot be run in\n",
      "NumPy 2.1.3 as it may crash. To support both 1.x and 2.x\n",
      "versions of NumPy, modules must be compiled with NumPy 2.0.\n",
      "Some module may need to rebuild instead e.g. with 'pybind11>=2.12'.\n",
      "\n",
      "If you are a user of the module, the easiest solution will be to\n",
      "downgrade to 'numpy<2' or try to upgrade the affected module.\n",
      "We expect that some modules will need time to support NumPy 2.\n",
      "\n",
      "Traceback (most recent call last):  File \"<frozen runpy>\", line 198, in _run_module_as_main\n",
      "  File \"<frozen runpy>\", line 88, in _run_code\n",
      "  File \"c:\\Users\\huang\\work\\dataset\\.venv\\Lib\\site-packages\\ipykernel_launcher.py\", line 18, in <module>\n",
      "    app.launch_new_instance()\n",
      "  File \"c:\\Users\\huang\\work\\dataset\\.venv\\Lib\\site-packages\\traitlets\\config\\application.py\", line 1075, in launch_instance\n",
      "    app.start()\n",
      "  File \"c:\\Users\\huang\\work\\dataset\\.venv\\Lib\\site-packages\\ipykernel\\kernelapp.py\", line 739, in start\n",
      "    self.io_loop.start()\n",
      "  File \"c:\\Users\\huang\\work\\dataset\\.venv\\Lib\\site-packages\\tornado\\platform\\asyncio.py\", line 205, in start\n",
      "    self.asyncio_loop.run_forever()\n",
      "  File \"C:\\Users\\huang\\.pyenv\\pyenv-win\\versions\\3.12.2\\Lib\\asyncio\\base_events.py\", line 639, in run_forever\n",
      "    self._run_once()\n",
      "  File \"C:\\Users\\huang\\.pyenv\\pyenv-win\\versions\\3.12.2\\Lib\\asyncio\\base_events.py\", line 1985, in _run_once\n",
      "    handle._run()\n",
      "  File \"C:\\Users\\huang\\.pyenv\\pyenv-win\\versions\\3.12.2\\Lib\\asyncio\\events.py\", line 88, in _run\n",
      "    self._context.run(self._callback, *self._args)\n",
      "  File \"c:\\Users\\huang\\work\\dataset\\.venv\\Lib\\site-packages\\ipykernel\\kernelbase.py\", line 545, in dispatch_queue\n",
      "    await self.process_one()\n",
      "  File \"c:\\Users\\huang\\work\\dataset\\.venv\\Lib\\site-packages\\ipykernel\\kernelbase.py\", line 534, in process_one\n",
      "    await dispatch(*args)\n",
      "  File \"c:\\Users\\huang\\work\\dataset\\.venv\\Lib\\site-packages\\ipykernel\\kernelbase.py\", line 437, in dispatch_shell\n",
      "    await result\n",
      "  File \"c:\\Users\\huang\\work\\dataset\\.venv\\Lib\\site-packages\\ipykernel\\ipkernel.py\", line 362, in execute_request\n",
      "    await super().execute_request(stream, ident, parent)\n",
      "  File \"c:\\Users\\huang\\work\\dataset\\.venv\\Lib\\site-packages\\ipykernel\\kernelbase.py\", line 778, in execute_request\n",
      "    reply_content = await reply_content\n",
      "  File \"c:\\Users\\huang\\work\\dataset\\.venv\\Lib\\site-packages\\ipykernel\\ipkernel.py\", line 449, in do_execute\n",
      "    res = shell.run_cell(\n",
      "  File \"c:\\Users\\huang\\work\\dataset\\.venv\\Lib\\site-packages\\ipykernel\\zmqshell.py\", line 549, in run_cell\n",
      "    return super().run_cell(*args, **kwargs)\n",
      "  File \"c:\\Users\\huang\\work\\dataset\\.venv\\Lib\\site-packages\\IPython\\core\\interactiveshell.py\", line 3075, in run_cell\n",
      "    result = self._run_cell(\n",
      "  File \"c:\\Users\\huang\\work\\dataset\\.venv\\Lib\\site-packages\\IPython\\core\\interactiveshell.py\", line 3130, in _run_cell\n",
      "    result = runner(coro)\n",
      "  File \"c:\\Users\\huang\\work\\dataset\\.venv\\Lib\\site-packages\\IPython\\core\\async_helpers.py\", line 128, in _pseudo_sync_runner\n",
      "    coro.send(None)\n",
      "  File \"c:\\Users\\huang\\work\\dataset\\.venv\\Lib\\site-packages\\IPython\\core\\interactiveshell.py\", line 3334, in run_cell_async\n",
      "    has_raised = await self.run_ast_nodes(code_ast.body, cell_name,\n",
      "  File \"c:\\Users\\huang\\work\\dataset\\.venv\\Lib\\site-packages\\IPython\\core\\interactiveshell.py\", line 3517, in run_ast_nodes\n",
      "    if await self.run_code(code, result, async_=asy):\n",
      "  File \"c:\\Users\\huang\\work\\dataset\\.venv\\Lib\\site-packages\\IPython\\core\\interactiveshell.py\", line 3577, in run_code\n",
      "    exec(code_obj, self.user_global_ns, self.user_ns)\n",
      "  File \"C:\\Users\\huang\\AppData\\Local\\Temp\\ipykernel_8536\\3601810695.py\", line 2, in <module>\n",
      "    import src.main_process as main_process\n",
      "  File \"c:\\Users\\huang\\work\\dataset\\src\\main_process.py\", line 5, in <module>\n",
      "    import src.pic_preprocess as pic_prepro\n",
      "  File \"c:\\Users\\huang\\work\\dataset\\src\\pic_preprocess.py\", line 8, in <module>\n",
      "    from torchvision import transforms\n",
      "  File \"c:\\Users\\huang\\work\\dataset\\.venv\\Lib\\site-packages\\torchvision\\__init__.py\", line 5, in <module>\n",
      "    import torch\n",
      "  File \"c:\\Users\\huang\\work\\dataset\\.venv\\Lib\\site-packages\\torch\\__init__.py\", line 1477, in <module>\n",
      "    from .functional import *  # noqa: F403\n",
      "  File \"c:\\Users\\huang\\work\\dataset\\.venv\\Lib\\site-packages\\torch\\functional.py\", line 9, in <module>\n",
      "    import torch.nn.functional as F\n",
      "  File \"c:\\Users\\huang\\work\\dataset\\.venv\\Lib\\site-packages\\torch\\nn\\__init__.py\", line 1, in <module>\n",
      "    from .modules import *  # noqa: F403\n",
      "  File \"c:\\Users\\huang\\work\\dataset\\.venv\\Lib\\site-packages\\torch\\nn\\modules\\__init__.py\", line 35, in <module>\n",
      "    from .transformer import TransformerEncoder, TransformerDecoder, \\\n",
      "  File \"c:\\Users\\huang\\work\\dataset\\.venv\\Lib\\site-packages\\torch\\nn\\modules\\transformer.py\", line 20, in <module>\n",
      "    device: torch.device = torch.device(torch._C._get_default_device()),  # torch.device('cpu'),\n",
      "c:\\Users\\huang\\work\\dataset\\.venv\\Lib\\site-packages\\torch\\nn\\modules\\transformer.py:20: UserWarning: Failed to initialize NumPy: _ARRAY_API not found (Triggered internally at ..\\torch\\csrc\\utils\\tensor_numpy.cpp:84.)\n",
      "  device: torch.device = torch.device(torch._C._get_default_device()),  # torch.device('cpu'),\n"
     ]
    }
   ],
   "source": [
    "import pandas as pd\n",
    "import src.main_process as main_process\n",
    "from pathlib import Path\n",
    "# Paths and configuration\n",
    "base_paths = {\n",
    "    \"base_image_folder\": Path(r\"data\\20241217\\anomaly\"),\n",
    "    \"mask_image_folder\": Path(r\"data\\20241223\\mask\"),\n",
    "    \"back_image_folder\": Path(r\"data\\20241217\\normal\"),\n",
    "    \"output_root\": Path(r\"data\\20241223\\output\"),\n",
    "    \"aligned_data_path\": Path(r\"data\\merged_reference_data.csv\"),\n",
    "}\n",
    "calibration_path=Path(r'data\\20241217\\pair_add_hige.csv')\n",
    "anomaly_scores_path=Path(r\"data\\output\\20241216\\rd4ad_resnet18_512_cc_70epoch\\version_1\\anomalymaps.csv\")"
   ]
  },
  {
   "cell_type": "code",
   "execution_count": null,
   "metadata": {},
   "outputs": [],
   "source": [
    "# pic_prepro.make_anomaly_masks_in_folder(\n",
    "#     anomaly_scores_df,\n",
    "#     thresholds=[0.02,0.08,0.16,0.32],\n",
    "#     output_folder=mask_image_folder,) \n",
    "\n",
    "\n",
    "df = pd.read_csv(calibration_path,header=None)\n",
    "base_image_files = df.iloc[:, 0].values\n",
    "back_image_files = df.iloc[:, 1].values\n",
    "thresholds = df.iloc[:, 2:5].values.tolist()\n",
    "anomaly_scores_df = pd.read_csv(anomaly_scores_path, header=None, index_col=0)"
   ]
  },
  {
   "cell_type": "code",
   "execution_count": null,
   "metadata": {},
   "outputs": [],
   "source": [
    "base_image_file=\"1_12_01_A1_0150_O.tif\"\n",
    "back_image_file=\"2_02_01_A1_0094_O.tif\"\n",
    "main_process.generate_pics(base_image_file,back_image_file,anomaly_scores_df)"
   ]
  },
  {
   "cell_type": "code",
   "execution_count": null,
   "metadata": {},
   "outputs": [],
   "source": [
    "for base_image_file, back_image_file,threshold_list in zip(base_image_files, back_image_files,thresholds):\n",
    "    for threshold in threshold_list:\n",
    "        main_process.generate_pics(base_paths,base_image_file,back_image_file,anomaly_scores_df,threshold=threshold,scale_factor=-1)"
   ]
  },
  {
   "cell_type": "code",
   "execution_count": null,
   "metadata": {},
   "outputs": [],
   "source": [
    "for base_image_file, back_image_file in zip(base_image_files, back_image_files):\n",
    "        main_process.generate_pics(base_image_file,back_image_file,anomaly_scores_df,scale_factor=-1)"
   ]
  }
 ],
 "metadata": {
  "kernelspec": {
   "display_name": ".venv",
   "language": "python",
   "name": "python3"
  },
  "language_info": {
   "codemirror_mode": {
    "name": "ipython",
    "version": 3
   },
   "file_extension": ".py",
   "mimetype": "text/x-python",
   "name": "python",
   "nbconvert_exporter": "python",
   "pygments_lexer": "ipython3",
   "version": "3.12.2"
  }
 },
 "nbformat": 4,
 "nbformat_minor": 2
}
